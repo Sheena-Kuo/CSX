{
 "cells": [
  {
   "cell_type": "markdown",
   "metadata": {},
   "source": [
    "# Week1 - 熟悉91APP資料集(PromotionConditions)、pandas"
   ]
  },
  {
   "cell_type": "markdown",
   "metadata": {},
   "source": [
    "## pandas\n",
    "- read_csv() - 讀取csv資料\n",
    "- head() - df列出前 5 筆資料 (默認)\n",
    "- tail() - df列出後 5 筆資料 (默認)\n",
    "    - 可以在括號中加任意數字來調整列出的數量。\n",
    "    - ( Example: `head(10)` 將會列出前 10 筆資料 )\n",
    "- shape -> 此df的(資料數目,變數數目)\n",
    "- info() - 查看資料型態、欄位數目等等\n",
    "- unique() - distinct\n",
    "- to_datetime (str, format=\"\")\n",
    "    - astype(str) - 轉換資料成str\n",
    "    - 以什麼format去讀取那行str\n",
    "- 使用 loc() 方法透過 index 選取整行 row\n",
    "    - ex: df.loc[3]會列出第4列"
   ]
  },
  {
   "cell_type": "code",
   "execution_count": 1,
   "metadata": {},
   "outputs": [],
   "source": [
    "import pandas as pd"
   ]
  },
  {
   "cell_type": "code",
   "execution_count": 2,
   "metadata": {},
   "outputs": [],
   "source": [
    "df = pd.read_csv(\"../91APP/PromotionConditions.csv\")"
   ]
  },
  {
   "attachments": {},
   "cell_type": "markdown",
   "metadata": {},
   "source": [
    "## 資料集欄位\n",
    "\n",
    "|Columns|Meaning|\n",
    "|:---:|:---:|\n",
    "|PromotionId|活動編號|\n",
    "|PromotionStartDateTime|活動開始時間|\n",
    "|PromotionEndDateTime|活動結束時間|\n",
    "|PromotionValidFlag|此活動是否合法|\n",
    "|PromotionCondition_TotalPrice|折扣條件：滿額金額|\n",
    "|PromotionCondition_DiscountRate|折扣條件：折扣折數|\n",
    "|PromotionCondition_TotalQty|折扣條件：滿件條件|\n",
    "|PromotionCondition_DiscountPrice|折扣條件：折扣金額 |\n",
    "|DiscountType|折扣活動類型|"
   ]
  },
  {
   "cell_type": "code",
   "execution_count": 3,
   "metadata": {},
   "outputs": [
    {
     "data": {
      "text/html": [
       "<div>\n",
       "<style scoped>\n",
       "    .dataframe tbody tr th:only-of-type {\n",
       "        vertical-align: middle;\n",
       "    }\n",
       "\n",
       "    .dataframe tbody tr th {\n",
       "        vertical-align: top;\n",
       "    }\n",
       "\n",
       "    .dataframe thead th {\n",
       "        text-align: right;\n",
       "    }\n",
       "</style>\n",
       "<table border=\"1\" class=\"dataframe\">\n",
       "  <thead>\n",
       "    <tr style=\"text-align: right;\">\n",
       "      <th></th>\n",
       "      <th>PromotionId</th>\n",
       "      <th>PromotionStartDateTime</th>\n",
       "      <th>PromotionEndDateTime</th>\n",
       "      <th>PromotionValidFlag</th>\n",
       "      <th>PromotionCondition_TotalPrice</th>\n",
       "      <th>PromotionCondition_DiscountRate</th>\n",
       "      <th>PromotionCondition_TotalQty</th>\n",
       "      <th>PromotionCondition_DiscountPrice</th>\n",
       "      <th>DiscountType</th>\n",
       "    </tr>\n",
       "  </thead>\n",
       "  <tbody>\n",
       "    <tr>\n",
       "      <th>0</th>\n",
       "      <td>3</td>\n",
       "      <td>2015-06-02 16:00:00.000</td>\n",
       "      <td>2015-07-10 13:00:00.000</td>\n",
       "      <td>True</td>\n",
       "      <td>0.0</td>\n",
       "      <td>0.0</td>\n",
       "      <td>2</td>\n",
       "      <td>398.0</td>\n",
       "      <td>任選優惠價</td>\n",
       "    </tr>\n",
       "    <tr>\n",
       "      <th>1</th>\n",
       "      <td>4</td>\n",
       "      <td>2015-06-02 17:00:00.000</td>\n",
       "      <td>2015-07-30 11:00:00.000</td>\n",
       "      <td>True</td>\n",
       "      <td>0.0</td>\n",
       "      <td>0.0</td>\n",
       "      <td>2</td>\n",
       "      <td>250.0</td>\n",
       "      <td>任選優惠價</td>\n",
       "    </tr>\n",
       "    <tr>\n",
       "      <th>2</th>\n",
       "      <td>5</td>\n",
       "      <td>2015-06-02 17:00:00.000</td>\n",
       "      <td>2015-07-10 13:00:00.000</td>\n",
       "      <td>True</td>\n",
       "      <td>0.0</td>\n",
       "      <td>0.0</td>\n",
       "      <td>2</td>\n",
       "      <td>299.0</td>\n",
       "      <td>任選優惠價</td>\n",
       "    </tr>\n",
       "    <tr>\n",
       "      <th>3</th>\n",
       "      <td>6</td>\n",
       "      <td>2015-06-09 10:30:00.000</td>\n",
       "      <td>2015-06-23 09:59:00.000</td>\n",
       "      <td>True</td>\n",
       "      <td>1000.0</td>\n",
       "      <td>0.0</td>\n",
       "      <td>0</td>\n",
       "      <td>100.0</td>\n",
       "      <td>滿額折現</td>\n",
       "    </tr>\n",
       "    <tr>\n",
       "      <th>4</th>\n",
       "      <td>7</td>\n",
       "      <td>2015-07-09 16:00:00.000</td>\n",
       "      <td>2015-08-31 11:00:00.000</td>\n",
       "      <td>True</td>\n",
       "      <td>0.0</td>\n",
       "      <td>0.0</td>\n",
       "      <td>2</td>\n",
       "      <td>299.0</td>\n",
       "      <td>任選優惠價</td>\n",
       "    </tr>\n",
       "  </tbody>\n",
       "</table>\n",
       "</div>"
      ],
      "text/plain": [
       "   PromotionId   PromotionStartDateTime     PromotionEndDateTime  \\\n",
       "0            3  2015-06-02 16:00:00.000  2015-07-10 13:00:00.000   \n",
       "1            4  2015-06-02 17:00:00.000  2015-07-30 11:00:00.000   \n",
       "2            5  2015-06-02 17:00:00.000  2015-07-10 13:00:00.000   \n",
       "3            6  2015-06-09 10:30:00.000  2015-06-23 09:59:00.000   \n",
       "4            7  2015-07-09 16:00:00.000  2015-08-31 11:00:00.000   \n",
       "\n",
       "   PromotionValidFlag  PromotionCondition_TotalPrice  \\\n",
       "0                True                            0.0   \n",
       "1                True                            0.0   \n",
       "2                True                            0.0   \n",
       "3                True                         1000.0   \n",
       "4                True                            0.0   \n",
       "\n",
       "   PromotionCondition_DiscountRate  PromotionCondition_TotalQty  \\\n",
       "0                              0.0                            2   \n",
       "1                              0.0                            2   \n",
       "2                              0.0                            2   \n",
       "3                              0.0                            0   \n",
       "4                              0.0                            2   \n",
       "\n",
       "   PromotionCondition_DiscountPrice DiscountType  \n",
       "0                             398.0        任選優惠價  \n",
       "1                             250.0        任選優惠價  \n",
       "2                             299.0        任選優惠價  \n",
       "3                             100.0         滿額折現  \n",
       "4                             299.0        任選優惠價  "
      ]
     },
     "execution_count": 3,
     "metadata": {},
     "output_type": "execute_result"
    }
   ],
   "source": [
    "df.head()"
   ]
  },
  {
   "cell_type": "code",
   "execution_count": 4,
   "metadata": {},
   "outputs": [
    {
     "data": {
      "text/html": [
       "<div>\n",
       "<style scoped>\n",
       "    .dataframe tbody tr th:only-of-type {\n",
       "        vertical-align: middle;\n",
       "    }\n",
       "\n",
       "    .dataframe tbody tr th {\n",
       "        vertical-align: top;\n",
       "    }\n",
       "\n",
       "    .dataframe thead th {\n",
       "        text-align: right;\n",
       "    }\n",
       "</style>\n",
       "<table border=\"1\" class=\"dataframe\">\n",
       "  <thead>\n",
       "    <tr style=\"text-align: right;\">\n",
       "      <th></th>\n",
       "      <th>PromotionId</th>\n",
       "      <th>PromotionStartDateTime</th>\n",
       "      <th>PromotionEndDateTime</th>\n",
       "      <th>PromotionValidFlag</th>\n",
       "      <th>PromotionCondition_TotalPrice</th>\n",
       "      <th>PromotionCondition_DiscountRate</th>\n",
       "      <th>PromotionCondition_TotalQty</th>\n",
       "      <th>PromotionCondition_DiscountPrice</th>\n",
       "      <th>DiscountType</th>\n",
       "    </tr>\n",
       "  </thead>\n",
       "  <tbody>\n",
       "    <tr>\n",
       "      <th>204</th>\n",
       "      <td>202</td>\n",
       "      <td>2017-11-15 11:00:00.000</td>\n",
       "      <td>2017-12-12 10:59:00.000</td>\n",
       "      <td>True</td>\n",
       "      <td>0.0</td>\n",
       "      <td>0.00</td>\n",
       "      <td>2</td>\n",
       "      <td>388.0</td>\n",
       "      <td>任選優惠價</td>\n",
       "    </tr>\n",
       "    <tr>\n",
       "      <th>205</th>\n",
       "      <td>203</td>\n",
       "      <td>2017-11-15 11:00:00.000</td>\n",
       "      <td>2017-11-30 10:59:00.000</td>\n",
       "      <td>True</td>\n",
       "      <td>800.0</td>\n",
       "      <td>0.00</td>\n",
       "      <td>0</td>\n",
       "      <td>100.0</td>\n",
       "      <td>滿額折現</td>\n",
       "    </tr>\n",
       "    <tr>\n",
       "      <th>206</th>\n",
       "      <td>203</td>\n",
       "      <td>2017-11-15 11:00:00.000</td>\n",
       "      <td>2017-11-30 10:59:00.000</td>\n",
       "      <td>True</td>\n",
       "      <td>1200.0</td>\n",
       "      <td>0.00</td>\n",
       "      <td>0</td>\n",
       "      <td>150.0</td>\n",
       "      <td>滿額折現</td>\n",
       "    </tr>\n",
       "    <tr>\n",
       "      <th>207</th>\n",
       "      <td>204</td>\n",
       "      <td>2017-11-15 11:00:00.000</td>\n",
       "      <td>2017-11-21 10:59:00.000</td>\n",
       "      <td>True</td>\n",
       "      <td>0.0</td>\n",
       "      <td>0.88</td>\n",
       "      <td>2</td>\n",
       "      <td>0.0</td>\n",
       "      <td>滿件打折</td>\n",
       "    </tr>\n",
       "    <tr>\n",
       "      <th>208</th>\n",
       "      <td>205</td>\n",
       "      <td>2017-11-17 11:00:00.000</td>\n",
       "      <td>2017-12-05 10:59:00.000</td>\n",
       "      <td>True</td>\n",
       "      <td>600.0</td>\n",
       "      <td>0.00</td>\n",
       "      <td>0</td>\n",
       "      <td>0.0</td>\n",
       "      <td>滿額贈</td>\n",
       "    </tr>\n",
       "    <tr>\n",
       "      <th>209</th>\n",
       "      <td>206</td>\n",
       "      <td>2017-11-17 11:00:00.000</td>\n",
       "      <td>2017-12-05 10:59:00.000</td>\n",
       "      <td>True</td>\n",
       "      <td>3500.0</td>\n",
       "      <td>0.00</td>\n",
       "      <td>0</td>\n",
       "      <td>0.0</td>\n",
       "      <td>滿額贈</td>\n",
       "    </tr>\n",
       "    <tr>\n",
       "      <th>210</th>\n",
       "      <td>207</td>\n",
       "      <td>2017-11-21 11:00:00.000</td>\n",
       "      <td>2017-11-28 10:59:00.000</td>\n",
       "      <td>True</td>\n",
       "      <td>0.0</td>\n",
       "      <td>0.88</td>\n",
       "      <td>2</td>\n",
       "      <td>0.0</td>\n",
       "      <td>滿件打折</td>\n",
       "    </tr>\n",
       "    <tr>\n",
       "      <th>211</th>\n",
       "      <td>223</td>\n",
       "      <td>2018-01-02 11:00:00.000</td>\n",
       "      <td>2018-01-03 15:00:00.000</td>\n",
       "      <td>True</td>\n",
       "      <td>0.0</td>\n",
       "      <td>0.45</td>\n",
       "      <td>2</td>\n",
       "      <td>0.0</td>\n",
       "      <td>滿件打折</td>\n",
       "    </tr>\n",
       "    <tr>\n",
       "      <th>212</th>\n",
       "      <td>224</td>\n",
       "      <td>2018-01-03 15:05:00.000</td>\n",
       "      <td>2018-01-08 11:29:00.000</td>\n",
       "      <td>True</td>\n",
       "      <td>0.0</td>\n",
       "      <td>0.85</td>\n",
       "      <td>2</td>\n",
       "      <td>0.0</td>\n",
       "      <td>滿件打折</td>\n",
       "    </tr>\n",
       "    <tr>\n",
       "      <th>213</th>\n",
       "      <td>225</td>\n",
       "      <td>2018-01-08 11:30:00.000</td>\n",
       "      <td>2018-01-17 10:59:00.000</td>\n",
       "      <td>True</td>\n",
       "      <td>0.0</td>\n",
       "      <td>0.85</td>\n",
       "      <td>2</td>\n",
       "      <td>0.0</td>\n",
       "      <td>滿件打折</td>\n",
       "    </tr>\n",
       "  </tbody>\n",
       "</table>\n",
       "</div>"
      ],
      "text/plain": [
       "     PromotionId   PromotionStartDateTime     PromotionEndDateTime  \\\n",
       "204          202  2017-11-15 11:00:00.000  2017-12-12 10:59:00.000   \n",
       "205          203  2017-11-15 11:00:00.000  2017-11-30 10:59:00.000   \n",
       "206          203  2017-11-15 11:00:00.000  2017-11-30 10:59:00.000   \n",
       "207          204  2017-11-15 11:00:00.000  2017-11-21 10:59:00.000   \n",
       "208          205  2017-11-17 11:00:00.000  2017-12-05 10:59:00.000   \n",
       "209          206  2017-11-17 11:00:00.000  2017-12-05 10:59:00.000   \n",
       "210          207  2017-11-21 11:00:00.000  2017-11-28 10:59:00.000   \n",
       "211          223  2018-01-02 11:00:00.000  2018-01-03 15:00:00.000   \n",
       "212          224  2018-01-03 15:05:00.000  2018-01-08 11:29:00.000   \n",
       "213          225  2018-01-08 11:30:00.000  2018-01-17 10:59:00.000   \n",
       "\n",
       "     PromotionValidFlag  PromotionCondition_TotalPrice  \\\n",
       "204                True                            0.0   \n",
       "205                True                          800.0   \n",
       "206                True                         1200.0   \n",
       "207                True                            0.0   \n",
       "208                True                          600.0   \n",
       "209                True                         3500.0   \n",
       "210                True                            0.0   \n",
       "211                True                            0.0   \n",
       "212                True                            0.0   \n",
       "213                True                            0.0   \n",
       "\n",
       "     PromotionCondition_DiscountRate  PromotionCondition_TotalQty  \\\n",
       "204                             0.00                            2   \n",
       "205                             0.00                            0   \n",
       "206                             0.00                            0   \n",
       "207                             0.88                            2   \n",
       "208                             0.00                            0   \n",
       "209                             0.00                            0   \n",
       "210                             0.88                            2   \n",
       "211                             0.45                            2   \n",
       "212                             0.85                            2   \n",
       "213                             0.85                            2   \n",
       "\n",
       "     PromotionCondition_DiscountPrice DiscountType  \n",
       "204                             388.0        任選優惠價  \n",
       "205                             100.0         滿額折現  \n",
       "206                             150.0         滿額折現  \n",
       "207                               0.0         滿件打折  \n",
       "208                               0.0          滿額贈  \n",
       "209                               0.0          滿額贈  \n",
       "210                               0.0         滿件打折  \n",
       "211                               0.0         滿件打折  \n",
       "212                               0.0         滿件打折  \n",
       "213                               0.0         滿件打折  "
      ]
     },
     "execution_count": 4,
     "metadata": {},
     "output_type": "execute_result"
    }
   ],
   "source": [
    "df.tail(10)"
   ]
  },
  {
   "cell_type": "code",
   "execution_count": 5,
   "metadata": {},
   "outputs": [
    {
     "data": {
      "text/plain": [
       "(214, 9)"
      ]
     },
     "execution_count": 5,
     "metadata": {},
     "output_type": "execute_result"
    }
   ],
   "source": [
    "df.shape"
   ]
  },
  {
   "cell_type": "code",
   "execution_count": 6,
   "metadata": {},
   "outputs": [
    {
     "name": "stdout",
     "output_type": "stream",
     "text": [
      "<class 'pandas.core.frame.DataFrame'>\n",
      "RangeIndex: 214 entries, 0 to 213\n",
      "Data columns (total 9 columns):\n",
      "PromotionId                         214 non-null int64\n",
      "PromotionStartDateTime              214 non-null object\n",
      "PromotionEndDateTime                214 non-null object\n",
      "PromotionValidFlag                  214 non-null bool\n",
      "PromotionCondition_TotalPrice       214 non-null float64\n",
      "PromotionCondition_DiscountRate     214 non-null float64\n",
      "PromotionCondition_TotalQty         214 non-null int64\n",
      "PromotionCondition_DiscountPrice    214 non-null float64\n",
      "DiscountType                        214 non-null object\n",
      "dtypes: bool(1), float64(3), int64(2), object(3)\n",
      "memory usage: 13.7+ KB\n"
     ]
    }
   ],
   "source": [
    "df.info()"
   ]
  },
  {
   "cell_type": "markdown",
   "metadata": {},
   "source": [
    "### 把PromotionStartDateTime、PromotionEndDateTime格式都轉換為Datetime"
   ]
  },
  {
   "cell_type": "code",
   "execution_count": 7,
   "metadata": {},
   "outputs": [],
   "source": [
    "df.PromotionStartDateTime = pd.to_datetime(df.PromotionStartDateTime.astype(str), format = '%Y-%m-%d %H:%M:%S.%f')\n",
    "df.PromotionEndDateTime = pd.to_datetime(df.PromotionEndDateTime.astype(str), format = '%Y-%m-%d %H:%M:%S.%f')"
   ]
  },
  {
   "cell_type": "code",
   "execution_count": 8,
   "metadata": {},
   "outputs": [
    {
     "name": "stdout",
     "output_type": "stream",
     "text": [
      "<class 'pandas.core.frame.DataFrame'>\n",
      "RangeIndex: 214 entries, 0 to 213\n",
      "Data columns (total 9 columns):\n",
      "PromotionId                         214 non-null int64\n",
      "PromotionStartDateTime              214 non-null datetime64[ns]\n",
      "PromotionEndDateTime                214 non-null datetime64[ns]\n",
      "PromotionValidFlag                  214 non-null bool\n",
      "PromotionCondition_TotalPrice       214 non-null float64\n",
      "PromotionCondition_DiscountRate     214 non-null float64\n",
      "PromotionCondition_TotalQty         214 non-null int64\n",
      "PromotionCondition_DiscountPrice    214 non-null float64\n",
      "DiscountType                        214 non-null object\n",
      "dtypes: bool(1), datetime64[ns](2), float64(3), int64(2), object(1)\n",
      "memory usage: 13.7+ KB\n"
     ]
    }
   ],
   "source": [
    "df.info()"
   ]
  },
  {
   "cell_type": "code",
   "execution_count": 9,
   "metadata": {},
   "outputs": [
    {
     "data": {
      "text/html": [
       "<div>\n",
       "<style scoped>\n",
       "    .dataframe tbody tr th:only-of-type {\n",
       "        vertical-align: middle;\n",
       "    }\n",
       "\n",
       "    .dataframe tbody tr th {\n",
       "        vertical-align: top;\n",
       "    }\n",
       "\n",
       "    .dataframe thead th {\n",
       "        text-align: right;\n",
       "    }\n",
       "</style>\n",
       "<table border=\"1\" class=\"dataframe\">\n",
       "  <thead>\n",
       "    <tr style=\"text-align: right;\">\n",
       "      <th></th>\n",
       "      <th>PromotionId</th>\n",
       "      <th>PromotionStartDateTime</th>\n",
       "      <th>PromotionEndDateTime</th>\n",
       "      <th>PromotionValidFlag</th>\n",
       "      <th>PromotionCondition_TotalPrice</th>\n",
       "      <th>PromotionCondition_DiscountRate</th>\n",
       "      <th>PromotionCondition_TotalQty</th>\n",
       "      <th>PromotionCondition_DiscountPrice</th>\n",
       "      <th>DiscountType</th>\n",
       "    </tr>\n",
       "  </thead>\n",
       "  <tbody>\n",
       "    <tr>\n",
       "      <th>0</th>\n",
       "      <td>3</td>\n",
       "      <td>2015-06-02 16:00:00</td>\n",
       "      <td>2015-07-10 13:00:00</td>\n",
       "      <td>True</td>\n",
       "      <td>0.0</td>\n",
       "      <td>0.0</td>\n",
       "      <td>2</td>\n",
       "      <td>398.0</td>\n",
       "      <td>任選優惠價</td>\n",
       "    </tr>\n",
       "    <tr>\n",
       "      <th>1</th>\n",
       "      <td>4</td>\n",
       "      <td>2015-06-02 17:00:00</td>\n",
       "      <td>2015-07-30 11:00:00</td>\n",
       "      <td>True</td>\n",
       "      <td>0.0</td>\n",
       "      <td>0.0</td>\n",
       "      <td>2</td>\n",
       "      <td>250.0</td>\n",
       "      <td>任選優惠價</td>\n",
       "    </tr>\n",
       "    <tr>\n",
       "      <th>2</th>\n",
       "      <td>5</td>\n",
       "      <td>2015-06-02 17:00:00</td>\n",
       "      <td>2015-07-10 13:00:00</td>\n",
       "      <td>True</td>\n",
       "      <td>0.0</td>\n",
       "      <td>0.0</td>\n",
       "      <td>2</td>\n",
       "      <td>299.0</td>\n",
       "      <td>任選優惠價</td>\n",
       "    </tr>\n",
       "    <tr>\n",
       "      <th>3</th>\n",
       "      <td>6</td>\n",
       "      <td>2015-06-09 10:30:00</td>\n",
       "      <td>2015-06-23 09:59:00</td>\n",
       "      <td>True</td>\n",
       "      <td>1000.0</td>\n",
       "      <td>0.0</td>\n",
       "      <td>0</td>\n",
       "      <td>100.0</td>\n",
       "      <td>滿額折現</td>\n",
       "    </tr>\n",
       "    <tr>\n",
       "      <th>4</th>\n",
       "      <td>7</td>\n",
       "      <td>2015-07-09 16:00:00</td>\n",
       "      <td>2015-08-31 11:00:00</td>\n",
       "      <td>True</td>\n",
       "      <td>0.0</td>\n",
       "      <td>0.0</td>\n",
       "      <td>2</td>\n",
       "      <td>299.0</td>\n",
       "      <td>任選優惠價</td>\n",
       "    </tr>\n",
       "  </tbody>\n",
       "</table>\n",
       "</div>"
      ],
      "text/plain": [
       "   PromotionId PromotionStartDateTime PromotionEndDateTime  \\\n",
       "0            3    2015-06-02 16:00:00  2015-07-10 13:00:00   \n",
       "1            4    2015-06-02 17:00:00  2015-07-30 11:00:00   \n",
       "2            5    2015-06-02 17:00:00  2015-07-10 13:00:00   \n",
       "3            6    2015-06-09 10:30:00  2015-06-23 09:59:00   \n",
       "4            7    2015-07-09 16:00:00  2015-08-31 11:00:00   \n",
       "\n",
       "   PromotionValidFlag  PromotionCondition_TotalPrice  \\\n",
       "0                True                            0.0   \n",
       "1                True                            0.0   \n",
       "2                True                            0.0   \n",
       "3                True                         1000.0   \n",
       "4                True                            0.0   \n",
       "\n",
       "   PromotionCondition_DiscountRate  PromotionCondition_TotalQty  \\\n",
       "0                              0.0                            2   \n",
       "1                              0.0                            2   \n",
       "2                              0.0                            2   \n",
       "3                              0.0                            0   \n",
       "4                              0.0                            2   \n",
       "\n",
       "   PromotionCondition_DiscountPrice DiscountType  \n",
       "0                             398.0        任選優惠價  \n",
       "1                             250.0        任選優惠價  \n",
       "2                             299.0        任選優惠價  \n",
       "3                             100.0         滿額折現  \n",
       "4                             299.0        任選優惠價  "
      ]
     },
     "execution_count": 9,
     "metadata": {},
     "output_type": "execute_result"
    }
   ],
   "source": [
    "df.head()"
   ]
  },
  {
   "cell_type": "markdown",
   "metadata": {},
   "source": [
    "### 看看DiscountType有幾項，作圖"
   ]
  },
  {
   "cell_type": "code",
   "execution_count": 10,
   "metadata": {},
   "outputs": [
    {
     "data": {
      "text/plain": [
       "array(['任選優惠價', '滿額折現', '滿件打折', '滿額贈', '滿額打折', '滿件折現', '會員滿額打折'],\n",
       "      dtype=object)"
      ]
     },
     "execution_count": 10,
     "metadata": {},
     "output_type": "execute_result"
    }
   ],
   "source": [
    "df.DiscountType.unique()"
   ]
  },
  {
   "cell_type": "code",
   "execution_count": 11,
   "metadata": {},
   "outputs": [
    {
     "data": {
      "text/plain": [
       "DiscountType\n",
       "任選優惠價     108\n",
       "會員滿額打折      2\n",
       "滿件打折       23\n",
       "滿件折現        5\n",
       "滿額打折        6\n",
       "Name: PromotionId, dtype: int64"
      ]
     },
     "execution_count": 11,
     "metadata": {},
     "output_type": "execute_result"
    }
   ],
   "source": [
    "data = df.groupby(by=\"DiscountType\")[\"PromotionId\"].count()\n",
    "data.head()"
   ]
  },
  {
   "cell_type": "code",
   "execution_count": 12,
   "metadata": {},
   "outputs": [
    {
     "data": {
      "image/png": "[encoded data removed]",
      "text/plain": [
       "<Figure size 432x288 with 1 Axes>"
      ]
     },
     "metadata": {
      "needs_background": "light"
     },
     "output_type": "display_data"
    }
   ],
   "source": [
    "# 需要加底下這行才可以顯示圖出來\n",
    "%matplotlib inline\n",
    "import matplotlib.pyplot as plt\n",
    "plt.plot(data)\n",
    "plt.xlabel('DiscountType')\n",
    "plt.show()"
   ]
  },
  {
   "cell_type": "code",
   "execution_count": null,
   "metadata": {},
   "outputs": [],
   "source": []
  }
 ],
 "metadata": {
  "kernelspec": {
   "display_name": "Python 3",
   "language": "python",
   "name": "python3"
  },
  "language_info": {
   "codemirror_mode": {
    "name": "ipython",
    "version": 3
   },
   "file_extension": ".py",
   "mimetype": "text/x-python",
   "name": "python",
   "nbconvert_exporter": "python",
   "pygments_lexer": "ipython3",
   "version": "3.7.0"
  }
 },
 "nbformat": 4,
 "nbformat_minor": 2
}
