{
 "cells": [
  {
   "cell_type": "code",
   "execution_count": 1,
   "metadata": {},
   "outputs": [],
   "source": [
    "import requests\n",
    "from bs4 import BeautifulSoup\n",
    "from datetime import datetime\n",
    "import json"
   ]
  },
  {
   "cell_type": "code",
   "execution_count": 2,
   "metadata": {},
   "outputs": [],
   "source": [
    "ptt_url = (\"https://www.ptt.cc\")\n",
    "ptt_movie_url = ptt_url+\"/bbs/movie\"\n",
    "res = requests.get(ptt_movie_url)"
   ]
  },
  {
   "cell_type": "code",
   "execution_count": 3,
   "metadata": {},
   "outputs": [],
   "source": [
    "soup = BeautifulSoup(res.text)\n",
    "previous_page_url = ptt_url+soup.select(\".btn.wide\")[1][\"href\"]\n",
    "\n",
    "movies = []\n",
    "break_day = datetime.strptime(\"2018-01-01\", '%Y-%m-%d')\n",
    "check_date = datetime.strptime(\"2018-12-31\", '%Y-%m-%d')\n",
    "while break_day<check_date:\n",
    "    movies_data = soup.select('.r-ent')\n",
    "#     print(previous_page_url)\n",
    "    for i in range(len(movies_data)):\n",
    "        try:\n",
    "            check_date_res = requests.get(ptt_url+movies_data[0].select(\".title\")[0].select(\"a\")[0][\"href\"])\n",
    "            check_date = BeautifulSoup(check_date_res.text).select(\".article-meta-value\")[-1].text\n",
    "            check_date = datetime.strptime(check_date, '%a %b %d %H:%M:%S %Y')\n",
    "            break\n",
    "        except:\n",
    "            continue\n",
    "\n",
    "    for item in movies_data:\n",
    "        movie = {}\n",
    "        movie['title'] = item.select(\".title\")[0].text.strip()\n",
    "        movie['date'] = item.select(\".date\")[0].text.strip()\n",
    "        movie['author'] = item.select(\".author\")[0].text.strip()\n",
    "        if item.select(\".nrec\")[0].text.strip()== '':\n",
    "            movie['push'] = '0'\n",
    "        else:\n",
    "            movie['push'] = item.select(\".nrec\")[0].text.strip()\n",
    "        movies.append(movie)\n",
    "    soup = BeautifulSoup(requests.get(previous_page_url).text)\n",
    "    previous_page_url = ptt_url+soup.select(\".btn.wide\")[1][\"href\"]\n",
    "movies_json = json.dumps(movies)"
   ]
  },
  {
   "cell_type": "code",
   "execution_count": 4,
   "metadata": {},
   "outputs": [],
   "source": [
    "with open('movie.json', 'w') as outfile:\n",
    "    json.dump(movies, outfile)"
   ]
  },
  {
   "cell_type": "code",
   "execution_count": null,
   "metadata": {},
   "outputs": [],
   "source": []
  }
 ],
 "metadata": {
  "kernelspec": {
   "display_name": "Python 3",
   "language": "python",
   "name": "python3"
  },
  "language_info": {
   "codemirror_mode": {
    "name": "ipython",
    "version": 3
   },
   "file_extension": ".py",
   "mimetype": "text/x-python",
   "name": "python",
   "nbconvert_exporter": "python",
   "pygments_lexer": "ipython3",
   "version": "3.6.6"
  }
 },
 "nbformat": 4,
 "nbformat_minor": 2
}
